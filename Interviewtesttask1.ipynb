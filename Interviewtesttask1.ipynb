{
 "cells": [
  {
   "cell_type": "code",
   "execution_count": 1,
   "id": "e6ac754d",
   "metadata": {},
   "outputs": [],
   "source": [
    "num= 33"
   ]
  },
  {
   "cell_type": "code",
   "execution_count": 2,
   "id": "d946d3ed",
   "metadata": {},
   "outputs": [],
   "source": [
    "flag = False\n",
    "if num > 1:\n",
    "    for i in range(2, num):\n",
    "        if (num%i)== 0:\n",
    "            flag = True\n",
    "            break"
   ]
  },
  {
   "cell_type": "code",
   "execution_count": 3,
   "id": "8098e5e0",
   "metadata": {},
   "outputs": [
    {
     "name": "stdout",
     "output_type": "stream",
     "text": [
      "33 is not a prime number\n",
      "the number is odd and cube of odd number is:  35937\n"
     ]
    }
   ],
   "source": [
    "if flag:\n",
    "    print(num, \"is not a prime number\")\n",
    "    if(num%2)==0:\n",
    "        print(\"the number is even and half of the even number is: \",num/2);\n",
    "    else:\n",
    "        print(\"the number is odd and cube of odd number is: \",num*num*num );\n",
    "else:\n",
    "    print(num, \"is a prime number\")"
   ]
  },
  {
   "cell_type": "code",
   "execution_count": null,
   "id": "b2394f92",
   "metadata": {},
   "outputs": [],
   "source": []
  }
 ],
 "metadata": {
  "kernelspec": {
   "display_name": "Python 3",
   "language": "python",
   "name": "python3"
  },
  "language_info": {
   "codemirror_mode": {
    "name": "ipython",
    "version": 3
   },
   "file_extension": ".py",
   "mimetype": "text/x-python",
   "name": "python",
   "nbconvert_exporter": "python",
   "pygments_lexer": "ipython3",
   "version": "3.8.8"
  }
 },
 "nbformat": 4,
 "nbformat_minor": 5
}
